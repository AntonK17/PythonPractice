{
 "cells": [
  {
   "cell_type": "code",
   "execution_count": null,
   "id": "428d4cb4",
   "metadata": {},
   "outputs": [],
   "source": [
    "class list_divider(list):\n",
    "    def __truediv__(self, divider):\n",
    "        if (type(divider) != int):\n",
    "            raise TypeError\n",
    "        if divider < 1:\n",
    "            raise ValueError\n",
    "        result=[]\n",
    "        selfLen=len(self)\n",
    "        n=selfLen//divider\n",
    "        k=selfLen%divider\n",
    "        e=k\n",
    "        for i in range(divider):\n",
    "            if k>0:\n",
    "                result.append(self[i*(n+1):i*(n+1)+n+1]) \n",
    "            else:\n",
    "                result.append(self[i*n+e:i*n+e+n])    \n",
    "            k-=1         \n",
    "        return result"
   ]
  }
 ],
 "metadata": {
  "kernelspec": {
   "display_name": "Python 3 (ipykernel)",
   "language": "python",
   "name": "python3"
  },
  "language_info": {
   "codemirror_mode": {
    "name": "ipython",
    "version": 3
   },
   "file_extension": ".py",
   "mimetype": "text/x-python",
   "name": "python",
   "nbconvert_exporter": "python",
   "pygments_lexer": "ipython3",
   "version": "3.9.7"
  }
 },
 "nbformat": 4,
 "nbformat_minor": 5
}
