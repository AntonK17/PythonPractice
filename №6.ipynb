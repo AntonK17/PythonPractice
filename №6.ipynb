{
 "cells": [
  {
   "cell_type": "code",
   "execution_count": 1,
   "id": "c689b595",
   "metadata": {},
   "outputs": [],
   "source": [
    "class score_filter:\n",
    "    def __init__(self, min_score, max_score):        \n",
    "        self.min_score = min_score\n",
    "        self.max_score = max_score\n",
    "    def fit(self, x, y, iterObj):\n",
    "        self.x = x\n",
    "        self.y = y\n",
    "        self.iterObj = iterObj\n",
    "        self.denom = 0\n",
    "        for i in range(1, len(self.x)):\n",
    "            self.x[i] += self.x[i-1]\n",
    "        for i in range(1, len(self.y)):\n",
    "            self.y[i] += self.y[i-1]\n",
    "            \n",
    "        self.denom=self.x[len(self.x)-1]*self.y[len(self.y)-1]\n",
    "    \n",
    "    def __iter__(self):\n",
    "        for k,l in self.iterObj:\n",
    "            numer=self.x[k]*self.y[l]\n",
    "            if (((numer/self.denom) > self.min_score) and ((numer/self.denom) < self.max_score)):\n",
    "                yield (k, l)       "
   ]
  },
  {
   "cell_type": "code",
   "execution_count": 2,
   "id": "52e1f359",
   "metadata": {},
   "outputs": [],
   "source": [
    "s = score_filter(0,10)"
   ]
  },
  {
   "cell_type": "code",
   "execution_count": 9,
   "id": "be5efd36",
   "metadata": {},
   "outputs": [],
   "source": [
    "x=[1,1,1]\n",
    "y=[2,1,6]\n",
    "iterobj = [(1,2), (1,1), (0,2)]\n",
    "s.fit(x,y,iterobj)"
   ]
  },
  {
   "cell_type": "code",
   "execution_count": 10,
   "id": "b5d8c530",
   "metadata": {},
   "outputs": [],
   "source": [
    "itr = iter(s)"
   ]
  },
  {
   "cell_type": "code",
   "execution_count": 11,
   "id": "1a0aaa9a",
   "metadata": {},
   "outputs": [
    {
     "name": "stdout",
     "output_type": "stream",
     "text": [
      "(1, 2)\n"
     ]
    }
   ],
   "source": [
    "print(next(itr))"
   ]
  },
  {
   "cell_type": "code",
   "execution_count": 12,
   "id": "a8f6637c",
   "metadata": {},
   "outputs": [
    {
     "name": "stdout",
     "output_type": "stream",
     "text": [
      "(1, 1)\n"
     ]
    }
   ],
   "source": [
    "print(next(itr))"
   ]
  },
  {
   "cell_type": "code",
   "execution_count": 13,
   "id": "b697e563",
   "metadata": {},
   "outputs": [
    {
     "name": "stdout",
     "output_type": "stream",
     "text": [
      "(0, 2)\n"
     ]
    }
   ],
   "source": [
    "print(next(itr))"
   ]
  },
  {
   "cell_type": "code",
   "execution_count": 14,
   "id": "274fca3c",
   "metadata": {},
   "outputs": [
    {
     "name": "stdout",
     "output_type": "stream",
     "text": [
      "(1, 2)\n",
      "(1, 1)\n",
      "(0, 2)\n"
     ]
    }
   ],
   "source": [
    "for m in s:\n",
    "    print (m)"
   ]
  },
  {
   "cell_type": "code",
   "execution_count": null,
   "id": "ad725ef1",
   "metadata": {},
   "outputs": [],
   "source": []
  },
  {
   "cell_type": "code",
   "execution_count": null,
   "id": "bc6e50aa",
   "metadata": {},
   "outputs": [],
   "source": []
  }
 ],
 "metadata": {
  "kernelspec": {
   "display_name": "Python 3 (ipykernel)",
   "language": "python",
   "name": "python3"
  },
  "language_info": {
   "codemirror_mode": {
    "name": "ipython",
    "version": 3
   },
   "file_extension": ".py",
   "mimetype": "text/x-python",
   "name": "python",
   "nbconvert_exporter": "python",
   "pygments_lexer": "ipython3",
   "version": "3.9.7"
  }
 },
 "nbformat": 4,
 "nbformat_minor": 5
}
